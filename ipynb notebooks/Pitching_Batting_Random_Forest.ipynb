{
 "cells": [
  {
   "cell_type": "markdown",
   "metadata": {},
   "source": [
    "Pitching Stat - Random Forest"
   ]
  },
  {
   "cell_type": "code",
   "execution_count": null,
   "metadata": {},
   "outputs": [],
   "source": [
    "from pybaseball import pitching_stats_bref\n",
    "import pandas as pd\n",
    "pitch_bref = pitching_stats_bref(2008)\n",
    "mvp_playerid_full = pd.read_csv('MVP_Players_Info.csv')\n",
    "mvp_playerid_full['Name']=mvp_playerid_full['nameFirst'] + \" \" + mvp_playerid_full['nameLast']\n",
    "mvp_playerid_full.head()\n",
    "mvp_player_pitch_bref = pitch_bref.merge(mvp_playerid_full[['Name', 'awardID', 'yearID']], right_on = ('Name','yearID'), left_on = ('Name','yearID'), how='left', suffixes=('_mvp', '_pitch'))\n"
   ]
  },
  {
   "cell_type": "code",
   "execution_count": null,
   "metadata": {},
   "outputs": [],
   "source": [
    "import numpy as np\n",
    "mvp_player_pitch_bref['MVP_Classification']=mvp_player_pitch_bref['awardID']\n",
    "mvp_player_pitch_bref['MVP_Classification'] = mvp_player_pitch_bref['MVP_Classification'].map({'MVP': 1})\n",
    "mvp_player_pitch_bref['MVP_Classification'] = mvp_player_pitch_bref['MVP_Classification'].replace(np.nan, 0)"
   ]
  },
  {
   "cell_type": "code",
   "execution_count": null,
   "metadata": {},
   "outputs": [],
   "source": [
    "from sklearn.ensemble import RandomForestClassifier"
   ]
  },
  {
   "cell_type": "code",
   "execution_count": null,
   "metadata": {},
   "outputs": [],
   "source": [
    "from sklearn.model_selection import train_test_split\n",
    "y=mvp_player_pitch_bref['MVP_Classification']\n",
    "X=mvp_player_pitch_bref.drop(['MVP_Classification','awardID', 'Name','Lev', 'Tm', 'Age'], axis=1)\n",
    "X = X.fillna(value=0)\n",
    "X_train, X_test, y_train, y_test = train_test_split(X, y, random_state=1)"
   ]
  },
  {
   "cell_type": "code",
   "execution_count": null,
   "metadata": {},
   "outputs": [],
   "source": [
    " # Create a random forest classifier\n",
    "rf = RandomForestClassifier(n_estimators=200)\n",
    "rf = rf.fit(X_train, y_train)\n",
    "rf.score(X_train, y_train)"
   ]
  },
  {
   "cell_type": "code",
   "execution_count": null,
   "metadata": {},
   "outputs": [],
   "source": [
    "importances = rf.feature_importances_\n",
    "importances"
   ]
  },
  {
   "cell_type": "markdown",
   "metadata": {},
   "source": [
    "Pitching - Feature Importances"
   ]
  },
  {
   "cell_type": "code",
   "execution_count": null,
   "metadata": {},
   "outputs": [],
   "source": [
    "sorted(zip(rf.feature_importances_, X_train.columns), reverse=True)"
   ]
  },
  {
   "cell_type": "markdown",
   "metadata": {},
   "source": [
    "Batting Stat - Random Forest"
   ]
  },
  {
   "cell_type": "code",
   "execution_count": null,
   "metadata": {},
   "outputs": [],
   "source": [
    "from pybaseball import batting_stats\n",
    "import pandas as pd\n",
    "batting = batting_stats(1990)\n"
   ]
  },
  {
   "cell_type": "code",
   "execution_count": null,
   "metadata": {},
   "outputs": [],
   "source": [
    "mvp_player_batting = batting.merge(mvp_playerid_full[['Name', 'awardID','yearID']], right_on = ('Name', 'yearID'), left_on = ('Name', 'Season'), how='left', suffixes=('_mvp', '_batch'))"
   ]
  },
  {
   "cell_type": "code",
   "execution_count": null,
   "metadata": {},
   "outputs": [],
   "source": [
    "mvp_player_batting['MVP_Classification']=mvp_player_batting['awardID']\n",
    "mvp_player_batting['MVP_Classification'] = mvp_player_batting['MVP_Classification'].map({'MVP': 1})\n",
    "mvp_player_batting['MVP_Classification'] = mvp_player_batting['MVP_Classification'].replace(np.nan, 0)"
   ]
  },
  {
   "cell_type": "code",
   "execution_count": null,
   "metadata": {},
   "outputs": [],
   "source": [
    "from sklearn.model_selection import train_test_split\n",
    "y=mvp_player_batting['MVP_Classification']\n",
    "X=mvp_player_batting.drop(['MVP_Classification','awardID', 'Team', 'Name','Age Rng'], axis=1)\n",
    "X = X.fillna(value=0)\n",
    "X_train, X_test, y_train, y_test = train_test_split(X, y, random_state=1)"
   ]
  },
  {
   "cell_type": "code",
   "execution_count": null,
   "metadata": {},
   "outputs": [],
   "source": [
    " # Create a random forest classifier\n",
    "rf = RandomForestClassifier(n_estimators=200)\n",
    "rf = rf.fit(X_train, y_train)\n",
    "rf.score(X_train, y_train)"
   ]
  },
  {
   "cell_type": "code",
   "execution_count": null,
   "metadata": {},
   "outputs": [],
   "source": [
    "importances = rf.feature_importances_\n",
    "importances"
   ]
  },
  {
   "cell_type": "markdown",
   "metadata": {},
   "source": [
    "Batting - Feature Importances"
   ]
  },
  {
   "cell_type": "code",
   "execution_count": null,
   "metadata": {},
   "outputs": [],
   "source": [
    "df=sorted(zip(rf.feature_importances_, X_train.columns), reverse=True)\n",
    "value = []\n",
    "label = []"
   ]
  },
  {
   "cell_type": "code",
   "execution_count": null,
   "metadata": {},
   "outputs": [],
   "source": [
    "import matplotlib.pyplot as plt"
   ]
  },
  {
   "cell_type": "code",
   "execution_count": null,
   "metadata": {},
   "outputs": [],
   "source": [
    "plt.bar(X_train.columns, rf.feature_importances_, align='center', alpha=0.5)\n",
    "plt.show()"
   ]
  },
  {
   "cell_type": "code",
   "execution_count": null,
   "metadata": {},
   "outputs": [],
   "source": []
  }
 ],
 "metadata": {
  "kernelspec": {
   "display_name": "Python 3",
   "language": "python",
   "name": "python3"
  },
  "language_info": {
   "codemirror_mode": {
    "name": "ipython",
    "version": 3
   },
   "file_extension": ".py",
   "mimetype": "text/x-python",
   "name": "python",
   "nbconvert_exporter": "python",
   "pygments_lexer": "ipython3",
   "version": "3.7.0"
  }
 },
 "nbformat": 4,
 "nbformat_minor": 2
}
