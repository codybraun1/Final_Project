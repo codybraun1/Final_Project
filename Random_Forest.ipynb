{
 "cells": [
  {
   "cell_type": "markdown",
   "metadata": {},
   "source": [
    "Pitching Stat - Random Forest"
   ]
  },
  {
   "cell_type": "code",
   "execution_count": null,
   "metadata": {},
   "outputs": [],
   "source": [
    "# from pybaseball import pitching_stats_bref\n",
    "# import pandas as pd\n",
    "# pitch_bref = pitching_stats_bref(2008)\n",
    "# mvp_playerid_full = pd.read_csv('Full_Data.csv')\n",
    "# mvp_playerid_full['Name']=mvp_playerid_full['nameFirst'] + \" \" + mvp_playerid_full['nameLast']\n",
    "# mvp_playerid_full.head()\n",
    "# mvp_player_pitch_bref = pitch_bref.merge(mvp_playerid_full[['Name', 'awardID', 'yearID']], right_on = ('Name','yearID'), left_on = ('Name','yearID'), how='left', suffixes=('_mvp', '_pitch'))\n"
   ]
  },
  {
   "cell_type": "code",
   "execution_count": 2,
   "metadata": {},
   "outputs": [
    {
     "name": "stderr",
     "output_type": "stream",
     "text": [
      "C:\\Users\\rwang\\DataBootCamp\\AnaConda\\lib\\site-packages\\IPython\\core\\interactiveshell.py:2785: DtypeWarning: Columns (1,2) have mixed types. Specify dtype option on import or set low_memory=False.\n",
      "  interactivity=interactivity, compiler=compiler, result=result)\n"
     ]
    },
    {
     "data": {
      "text/html": [
       "<div>\n",
       "<style scoped>\n",
       "    .dataframe tbody tr th:only-of-type {\n",
       "        vertical-align: middle;\n",
       "    }\n",
       "\n",
       "    .dataframe tbody tr th {\n",
       "        vertical-align: top;\n",
       "    }\n",
       "\n",
       "    .dataframe thead th {\n",
       "        text-align: right;\n",
       "    }\n",
       "</style>\n",
       "<table border=\"1\" class=\"dataframe\">\n",
       "  <thead>\n",
       "    <tr style=\"text-align: right;\">\n",
       "      <th></th>\n",
       "      <th>Season</th>\n",
       "      <th>Name_bat</th>\n",
       "      <th>Team_bat</th>\n",
       "      <th>Age_bat</th>\n",
       "      <th>G_bat</th>\n",
       "      <th>PA</th>\n",
       "      <th>H_bat</th>\n",
       "      <th>1B</th>\n",
       "      <th>2B</th>\n",
       "      <th>3B</th>\n",
       "      <th>...</th>\n",
       "      <th>bbrefID</th>\n",
       "      <th>fullName</th>\n",
       "      <th>key_bbref</th>\n",
       "      <th>key_fangraphs</th>\n",
       "      <th>yearID_team</th>\n",
       "      <th>teamIDBR</th>\n",
       "      <th>G</th>\n",
       "      <th>W_team</th>\n",
       "      <th>L_team</th>\n",
       "      <th>Playoffs</th>\n",
       "    </tr>\n",
       "  </thead>\n",
       "  <tbody>\n",
       "    <tr>\n",
       "      <th>0</th>\n",
       "      <td>1963</td>\n",
       "      <td>Buster Narum</td>\n",
       "      <td>Orioles</td>\n",
       "      <td>22.0</td>\n",
       "      <td>7.0</td>\n",
       "      <td>1.0</td>\n",
       "      <td>1.0</td>\n",
       "      <td>0.0</td>\n",
       "      <td>0.0</td>\n",
       "      <td>0.0</td>\n",
       "      <td>...</td>\n",
       "      <td>NaN</td>\n",
       "      <td>NaN</td>\n",
       "      <td>NaN</td>\n",
       "      <td>NaN</td>\n",
       "      <td>1963.0</td>\n",
       "      <td>BAL</td>\n",
       "      <td>162.0</td>\n",
       "      <td>86.0</td>\n",
       "      <td>76.0</td>\n",
       "      <td>0.0</td>\n",
       "    </tr>\n",
       "    <tr>\n",
       "      <th>1</th>\n",
       "      <td>2010</td>\n",
       "      <td>Gustavo Chacin</td>\n",
       "      <td>Astros</td>\n",
       "      <td>29.0</td>\n",
       "      <td>44.0</td>\n",
       "      <td>1.0</td>\n",
       "      <td>1.0</td>\n",
       "      <td>0.0</td>\n",
       "      <td>0.0</td>\n",
       "      <td>0.0</td>\n",
       "      <td>...</td>\n",
       "      <td>NaN</td>\n",
       "      <td>NaN</td>\n",
       "      <td>NaN</td>\n",
       "      <td>NaN</td>\n",
       "      <td>2010.0</td>\n",
       "      <td>HOU</td>\n",
       "      <td>162.0</td>\n",
       "      <td>76.0</td>\n",
       "      <td>86.0</td>\n",
       "      <td>0.0</td>\n",
       "    </tr>\n",
       "    <tr>\n",
       "      <th>2</th>\n",
       "      <td>1938</td>\n",
       "      <td>Bill Lefebvre</td>\n",
       "      <td>Red Sox</td>\n",
       "      <td>22.0</td>\n",
       "      <td>1.0</td>\n",
       "      <td>1.0</td>\n",
       "      <td>1.0</td>\n",
       "      <td>0.0</td>\n",
       "      <td>0.0</td>\n",
       "      <td>0.0</td>\n",
       "      <td>...</td>\n",
       "      <td>NaN</td>\n",
       "      <td>NaN</td>\n",
       "      <td>NaN</td>\n",
       "      <td>NaN</td>\n",
       "      <td>1938.0</td>\n",
       "      <td>BOS</td>\n",
       "      <td>150.0</td>\n",
       "      <td>88.0</td>\n",
       "      <td>61.0</td>\n",
       "      <td>0.0</td>\n",
       "    </tr>\n",
       "    <tr>\n",
       "      <th>3</th>\n",
       "      <td>2008</td>\n",
       "      <td>Felix Hernandez</td>\n",
       "      <td>Mariners</td>\n",
       "      <td>22.0</td>\n",
       "      <td>31.0</td>\n",
       "      <td>2.0</td>\n",
       "      <td>1.0</td>\n",
       "      <td>0.0</td>\n",
       "      <td>0.0</td>\n",
       "      <td>0.0</td>\n",
       "      <td>...</td>\n",
       "      <td>NaN</td>\n",
       "      <td>NaN</td>\n",
       "      <td>NaN</td>\n",
       "      <td>NaN</td>\n",
       "      <td>2008.0</td>\n",
       "      <td>SEA</td>\n",
       "      <td>162.0</td>\n",
       "      <td>61.0</td>\n",
       "      <td>101.0</td>\n",
       "      <td>0.0</td>\n",
       "    </tr>\n",
       "    <tr>\n",
       "      <th>4</th>\n",
       "      <td>2005</td>\n",
       "      <td>Eddie Rogers</td>\n",
       "      <td>Orioles</td>\n",
       "      <td>26.0</td>\n",
       "      <td>8.0</td>\n",
       "      <td>1.0</td>\n",
       "      <td>1.0</td>\n",
       "      <td>0.0</td>\n",
       "      <td>0.0</td>\n",
       "      <td>0.0</td>\n",
       "      <td>...</td>\n",
       "      <td>NaN</td>\n",
       "      <td>NaN</td>\n",
       "      <td>NaN</td>\n",
       "      <td>NaN</td>\n",
       "      <td>2005.0</td>\n",
       "      <td>BAL</td>\n",
       "      <td>162.0</td>\n",
       "      <td>74.0</td>\n",
       "      <td>88.0</td>\n",
       "      <td>0.0</td>\n",
       "    </tr>\n",
       "  </tbody>\n",
       "</table>\n",
       "<p>5 rows × 75 columns</p>\n",
       "</div>"
      ],
      "text/plain": [
       "   Season         Name_bat  Team_bat  Age_bat  G_bat   PA  H_bat   1B   2B  \\\n",
       "0    1963     Buster Narum   Orioles     22.0    7.0  1.0    1.0  0.0  0.0   \n",
       "1    2010   Gustavo Chacin    Astros     29.0   44.0  1.0    1.0  0.0  0.0   \n",
       "2    1938    Bill Lefebvre   Red Sox     22.0    1.0  1.0    1.0  0.0  0.0   \n",
       "3    2008  Felix Hernandez  Mariners     22.0   31.0  2.0    1.0  0.0  0.0   \n",
       "4    2005     Eddie Rogers   Orioles     26.0    8.0  1.0    1.0  0.0  0.0   \n",
       "\n",
       "    3B    ...     bbrefID  fullName  key_bbref  key_fangraphs  yearID_team  \\\n",
       "0  0.0    ...         NaN       NaN        NaN            NaN       1963.0   \n",
       "1  0.0    ...         NaN       NaN        NaN            NaN       2010.0   \n",
       "2  0.0    ...         NaN       NaN        NaN            NaN       1938.0   \n",
       "3  0.0    ...         NaN       NaN        NaN            NaN       2008.0   \n",
       "4  0.0    ...         NaN       NaN        NaN            NaN       2005.0   \n",
       "\n",
       "   teamIDBR      G  W_team  L_team  Playoffs  \n",
       "0       BAL  162.0    86.0    76.0       0.0  \n",
       "1       HOU  162.0    76.0    86.0       0.0  \n",
       "2       BOS  150.0    88.0    61.0       0.0  \n",
       "3       SEA  162.0    61.0   101.0       0.0  \n",
       "4       BAL  162.0    74.0    88.0       0.0  \n",
       "\n",
       "[5 rows x 75 columns]"
      ]
     },
     "execution_count": 2,
     "metadata": {},
     "output_type": "execute_result"
    }
   ],
   "source": [
    "import pandas as pd\n",
    "\n",
    "data=pd.read_csv('Full_Data.csv')\n",
    "data.head()"
   ]
  },
  {
   "cell_type": "code",
   "execution_count": null,
   "metadata": {},
   "outputs": [],
   "source": [
    "list(data)"
   ]
  },
  {
   "cell_type": "code",
   "execution_count": 3,
   "metadata": {},
   "outputs": [],
   "source": [
    "import numpy as np\n",
    "data['MVP_Classification']=data['awardID']\n",
    "data['MVP_Classification'] = data['MVP_Classification'].map({'MVP': 1})\n",
    "data['MVP_Classification'] = data['MVP_Classification'].replace(np.nan, 0)"
   ]
  },
  {
   "cell_type": "code",
   "execution_count": null,
   "metadata": {},
   "outputs": [],
   "source": [
    "data.head()"
   ]
  },
  {
   "cell_type": "code",
   "execution_count": 4,
   "metadata": {},
   "outputs": [
    {
     "name": "stderr",
     "output_type": "stream",
     "text": [
      "C:\\Users\\rwang\\DataBootCamp\\AnaConda\\lib\\site-packages\\sklearn\\ensemble\\weight_boosting.py:29: DeprecationWarning: numpy.core.umath_tests is an internal NumPy module and should not be imported. It will be removed in a future NumPy release.\n",
      "  from numpy.core.umath_tests import inner1d\n"
     ]
    }
   ],
   "source": [
    "from sklearn.ensemble import RandomForestClassifier"
   ]
  },
  {
   "cell_type": "code",
   "execution_count": null,
   "metadata": {
    "scrolled": true
   },
   "outputs": [],
   "source": [
    "print(data.columns, data.dtypes)"
   ]
  },
  {
   "cell_type": "code",
   "execution_count": null,
   "metadata": {},
   "outputs": [],
   "source": [
    "# from sklearn.model_selection import train_test_split\n",
    "# y=data['MVP_Classification']\n",
    "# X=data.drop(['Season','Name_bat','Team_bat','Age_bat', 'playerid','Name_pit','Team_pit',\n",
    "#              'Season.1','Age_pit', 'Team', 'Unnamed: 0', 'yearID_pit', 'lgID_mvp', 'playerID',\n",
    "#              'lgID_batting', 'teamID', 'nameFirst', 'nameLast', 'nameGiven', 'retroID', 'bbrefID',\n",
    "#        'fullName', 'key_bbref', 'key_fangraphs', 'yearID_team', 'teamIDBR',\n",
    "#        'G', 'W_team', 'L_team', 'MVP_Classification'], axis=1)\n",
    "# X = X.fillna(value=0)\n",
    "# X_train, X_test, y_train, y_test = train_test_split(X, y, random_state=1)\n",
    "    \n",
    "# X_train= X_train.drop(['Season','Name_bat','Team_bat','Age_bat', 'playerid','Name_pit','Team_pit',\n",
    "#              'Season.1','Age_pit', 'Team', 'Unnamed: 0', 'yearID_pit', 'lgID_mvp', 'playerID',\n",
    "#              'lgID_batting', 'teamID', 'nameFirst', 'nameLast', 'nameGiven', 'retroID', 'bbrefID',\n",
    "#        'fullName', 'key_bbref', 'key_fangraphs', 'yearID_team', 'teamIDBR',\n",
    "#        'G', 'W_team', 'L_team', 'MVP_Classification'], axis=1)"
   ]
  },
  {
   "cell_type": "code",
   "execution_count": 5,
   "metadata": {},
   "outputs": [],
   "source": [
    "from sklearn.model_selection import train_test_split\n",
    "data_2000=data[data['Season']==2000]\n",
    "data_2000\n",
    "y_2000=data_2000['MVP_Classification']\n",
    "X_2000=data_2000.drop(['Season','Name_bat','Team_bat','Age_bat', 'playerid','Name_pit','Team_pit',\n",
    "             'Season.1','Age_pit', 'Team', 'Unnamed: 0', 'yearID_pit', 'lgID_mvp', 'playerID',\n",
    "             'lgID_batting', 'teamID', 'nameFirst', 'nameLast', 'nameGiven', 'retroID', 'bbrefID',\n",
    "       'fullName', 'key_bbref', 'key_fangraphs', 'yearID_team', 'teamIDBR',\n",
    "       'G', 'W_team', 'L_team', 'MVP_Classification','Pos', 'awardID','pointsWon','pointsMax'], axis=1)\n",
    "X_2000 = X_2000.fillna(value=0)"
   ]
  },
  {
   "cell_type": "code",
   "execution_count": null,
   "metadata": {},
   "outputs": [],
   "source": [
    "# X_2000.columns\n",
    "# X_2000.dtypes"
   ]
  },
  {
   "cell_type": "code",
   "execution_count": 6,
   "metadata": {},
   "outputs": [
    {
     "data": {
      "text/plain": [
       "1.0"
      ]
     },
     "execution_count": 6,
     "metadata": {},
     "output_type": "execute_result"
    }
   ],
   "source": [
    " # Create a random forest classifier\n",
    "rf = RandomForestClassifier(n_estimators=200)\n",
    "rf = rf.fit(X_2000, y_2000)\n",
    "rf.score(X_2000, y_2000)"
   ]
  },
  {
   "cell_type": "code",
   "execution_count": 7,
   "metadata": {},
   "outputs": [
    {
     "data": {
      "text/plain": [
       "array([0.01755983, 0.04288276, 0.05221785, 0.02804082, 0.02291896,\n",
       "       0.00918817, 0.07706808, 0.09252175, 0.11804724, 0.03245583,\n",
       "       0.0114866 , 0.03414542, 0.01975688, 0.04416994, 0.03118275,\n",
       "       0.03532854, 0.10737143, 0.04423065, 0.00509078, 0.00372675,\n",
       "       0.00416889, 0.00669515, 0.01532629, 0.01424072, 0.0141325 ,\n",
       "       0.        , 0.01443324, 0.00449238, 0.00264935, 0.00322497,\n",
       "       0.00387195, 0.00315532, 0.0099622 , 0.00434398, 0.00299343,\n",
       "       0.01032716, 0.00827293, 0.00534399, 0.01400486, 0.01089297,\n",
       "       0.01211039, 0.00596632])"
      ]
     },
     "execution_count": 7,
     "metadata": {},
     "output_type": "execute_result"
    }
   ],
   "source": [
    "importances = rf.feature_importances_\n",
    "importances"
   ]
  },
  {
   "cell_type": "markdown",
   "metadata": {},
   "source": [
    "Pitching - Feature Importances"
   ]
  },
  {
   "cell_type": "code",
   "execution_count": 8,
   "metadata": {},
   "outputs": [],
   "source": [
    "list=sorted(zip(rf.feature_importances_, X_2000.columns), reverse=True)\n",
    "# top 10 feature importances\n",
    "list_10=list[:10]"
   ]
  },
  {
   "cell_type": "code",
   "execution_count": 9,
   "metadata": {},
   "outputs": [],
   "source": [
    "# Linear regression\n",
    "\n",
    "import matplotlib.pyplot as plt\n",
    "import numpy as np\n",
    "from sklearn import datasets, linear_model\n",
    "from sklearn.metrics import mean_squared_error, r2_score"
   ]
  },
  {
   "cell_type": "code",
   "execution_count": 10,
   "metadata": {},
   "outputs": [],
   "source": [
    "data_2000_linear=data_2000[data_2000['pointsWon']>0]\n",
    "\n",
    "y_2000_linear=data_2000_linear['pointsWon']\n",
    "X_2000_linear=data_2000_linear.drop(['Season','Name_bat','Team_bat','Age_bat', 'playerid','Name_pit','Team_pit',\n",
    "             'Season.1','Age_pit', 'Team', 'Unnamed: 0', 'yearID_pit', 'lgID_mvp', 'playerID',\n",
    "             'lgID_batting', 'teamID', 'nameFirst', 'nameLast', 'nameGiven', 'retroID', 'bbrefID',\n",
    "       'fullName', 'key_bbref', 'key_fangraphs', 'yearID_team', 'teamIDBR',\n",
    "       'G', 'W_team', 'L_team', 'MVP_Classification','Pos', 'awardID','pointsWon','pointsMax'], axis=1)\n",
    "X_2000_linear = X_2000_linear.fillna(value=0)"
   ]
  },
  {
   "cell_type": "code",
   "execution_count": 12,
   "metadata": {},
   "outputs": [
    {
     "data": {
      "text/plain": [
       "array([[ 97.],\n",
       "       [198.],\n",
       "       [206.],\n",
       "       [317.],\n",
       "       [279.],\n",
       "       [ 71.],\n",
       "       [285.],\n",
       "       [117.],\n",
       "       [  2.],\n",
       "       [102.],\n",
       "       [ 66.],\n",
       "       [392.],\n",
       "       [218.],\n",
       "       [  3.],\n",
       "       [  6.],\n",
       "       [ 71.],\n",
       "       [  2.],\n",
       "       [ 97.],\n",
       "       [271.],\n",
       "       [208.],\n",
       "       [  6.],\n",
       "       [ 23.],\n",
       "       [ 94.],\n",
       "       [ 23.],\n",
       "       [ 23.],\n",
       "       [ 23.],\n",
       "       [ 33.],\n",
       "       [ 44.],\n",
       "       [  2.],\n",
       "       [ 95.],\n",
       "       [ 28.],\n",
       "       [  1.],\n",
       "       [  5.],\n",
       "       [ 12.],\n",
       "       [  8.],\n",
       "       [  4.],\n",
       "       [  5.],\n",
       "       [  2.],\n",
       "       [  8.],\n",
       "       [ 12.],\n",
       "       [103.],\n",
       "       [  1.]])"
      ]
     },
     "execution_count": 12,
     "metadata": {},
     "output_type": "execute_result"
    }
   ],
   "source": [
    "y_2000_linear=y_2000_linear.values.reshape(len(y_2000_linear),1)\n",
    "y_2000_linear"
   ]
  },
  {
   "cell_type": "code",
   "execution_count": 13,
   "metadata": {},
   "outputs": [
    {
     "data": {
      "text/plain": [
       "LinearRegression(copy_X=True, fit_intercept=True, n_jobs=1, normalize=False)"
      ]
     },
     "execution_count": 13,
     "metadata": {},
     "output_type": "execute_result"
    }
   ],
   "source": [
    "names=[]\n",
    "for i in list_10:\n",
    "    names.append(i[1])\n",
    "\n",
    "X_2000_linear = X_2000_linear[names]\n",
    "regr = linear_model.LinearRegression()\n",
    "regr.fit(y_2000_linear, X_2000_linear)"
   ]
  },
  {
   "cell_type": "code",
   "execution_count": null,
   "metadata": {},
   "outputs": [],
   "source": []
  },
  {
   "cell_type": "markdown",
   "metadata": {},
   "source": [
    "Batting Stat - Random Forest"
   ]
  },
  {
   "cell_type": "code",
   "execution_count": null,
   "metadata": {},
   "outputs": [],
   "source": [
    "# from pybaseball import batting_stats\n",
    "# import pandas as pd\n",
    "# batting = batting_stats(1990)\n"
   ]
  },
  {
   "cell_type": "code",
   "execution_count": null,
   "metadata": {},
   "outputs": [],
   "source": [
    "# mvp_player_batting = batting.merge(mvp_playerid_full[['Name', 'awardID','yearID']], right_on = ('Name', 'yearID'), left_on = ('Name', 'Season'), how='left', suffixes=('_mvp', '_batch'))"
   ]
  },
  {
   "cell_type": "code",
   "execution_count": null,
   "metadata": {},
   "outputs": [],
   "source": [
    "# mvp_player_batting['MVP_Classification']=mvp_player_batting['awardID']\n",
    "# mvp_player_batting['MVP_Classification'] = mvp_player_batting['MVP_Classification'].map({'MVP': 1})\n",
    "# mvp_player_batting['MVP_Classification'] = mvp_player_batting['MVP_Classification'].replace(np.nan, 0)"
   ]
  },
  {
   "cell_type": "code",
   "execution_count": null,
   "metadata": {},
   "outputs": [],
   "source": [
    "# from sklearn.model_selection import train_test_split\n",
    "# y=mvp_player_batting['MVP_Classification']\n",
    "# X=mvp_player_batting.drop(['MVP_Classification','awardID', 'Team', 'Name','Age Rng'], axis=1)\n",
    "# X = X.fillna(value=0)\n",
    "# X_train, X_test, y_train, y_test = train_test_split(X, y, random_state=1)"
   ]
  },
  {
   "cell_type": "code",
   "execution_count": null,
   "metadata": {},
   "outputs": [],
   "source": [
    "#  # Create a random forest classifier\n",
    "# rf = RandomForestClassifier(n_estimators=200)\n",
    "# rf = rf.fit(X_train, y_train)\n",
    "# rf.score(X_train, y_train)"
   ]
  },
  {
   "cell_type": "code",
   "execution_count": null,
   "metadata": {},
   "outputs": [],
   "source": [
    "# importances = rf.feature_importances_\n",
    "# importances"
   ]
  },
  {
   "cell_type": "markdown",
   "metadata": {},
   "source": [
    "Batting - Feature Importances"
   ]
  },
  {
   "cell_type": "code",
   "execution_count": null,
   "metadata": {},
   "outputs": [],
   "source": [
    "# df=sorted(zip(rf.feature_importances_, X_train.columns), reverse=True)\n",
    "# value = []\n",
    "# label = []"
   ]
  },
  {
   "cell_type": "code",
   "execution_count": null,
   "metadata": {},
   "outputs": [],
   "source": [
    "# import matplotlib.pyplot as plt"
   ]
  },
  {
   "cell_type": "code",
   "execution_count": null,
   "metadata": {},
   "outputs": [],
   "source": [
    "# plt.bar(X_train.columns, rf.feature_importances_, align='center', alpha=0.5)\n",
    "# plt.show()"
   ]
  },
  {
   "cell_type": "code",
   "execution_count": null,
   "metadata": {},
   "outputs": [],
   "source": []
  }
 ],
 "metadata": {
  "kernelspec": {
   "display_name": "Python 3",
   "language": "python",
   "name": "python3"
  },
  "language_info": {
   "codemirror_mode": {
    "name": "ipython",
    "version": 3
   },
   "file_extension": ".py",
   "mimetype": "text/x-python",
   "name": "python",
   "nbconvert_exporter": "python",
   "pygments_lexer": "ipython3",
   "version": "3.7.0"
  }
 },
 "nbformat": 4,
 "nbformat_minor": 2
}
