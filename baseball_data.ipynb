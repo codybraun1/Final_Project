{
 "cells": [
  {
   "cell_type": "code",
   "execution_count": null,
   "metadata": {},
   "outputs": [],
   "source": [
    "from pybaseball.lahman import *\n",
    "import pandas as pd"
   ]
  },
  {
   "cell_type": "code",
   "execution_count": null,
   "metadata": {},
   "outputs": [],
   "source": [
    "# Download data\n",
    "# download_lahman()"
   ]
  },
  {
   "cell_type": "code",
   "execution_count": null,
   "metadata": {},
   "outputs": [],
   "source": [
    "master=pd.read_csv('baseballdatabank-2017.1/core/Master.csv')\n",
    "list(master)"
   ]
  },
  {
   "cell_type": "code",
   "execution_count": null,
   "metadata": {},
   "outputs": [],
   "source": [
    "park=pd.read_csv('baseballdatabank-2017.1/core/Parks.csv')\n",
    "park_state_gp=park.groupby('state').count()\n",
    "park_state_gp\n",
    "park.head()"
   ]
  },
  {
   "cell_type": "code",
   "execution_count": null,
   "metadata": {},
   "outputs": [],
   "source": [
    "award=pd.read_csv('baseballdatabank-2017.1/core/AwardsSharePlayers.csv')\n",
    "team=pd.read_csv('baseballdatabank-2017.1/core/Teams.csv')\n",
    "batting=pd.read_csv('baseballdatabank-2017.1/core/batting.csv')\n",
    "\n",
    "PlayerID = award[(award['lgID']=='NL')&((award['awardID']=='Cy Young')|(award['awardID']=='MVP'))]\n",
    "MVP_PlayerID = PlayerID[PlayerID['awardID']=='MVP']\n",
    "MVP_PlayerID.sort_values(by=['yearID'])\n",
    "\n",
    "mvp_playerid_batting = MVP_PlayerID.merge(batting[['lgID','teamID','playerID','yearID']], on=['playerID', 'yearID'], how='left', suffixes=('_mvp','_batting'))\n",
    "mvp_playerid_full=mvp_playerid_batting.merge(master[['playerID', 'nameFirst','nameLast','nameGiven','retroID', 'bbrefID']], on='playerID', how='left', suffixes=('_mvp','_master'))\n",
    "mvp_playerid_full\n",
    "mvp_playerid_full.to_csv('MVP_Players_Info.csv')\n",
    "\n",
    "# mvp_playerid_lg=mvp_playerid_batting.merge(team[['teamID', 'state']], on='')\n",
    "\n",
    "# mvp_playerid_lg = MVP_PlayerID.merge(team[['lgID','teamID','park']], on='playerID', how='left', suffixes=('_mvp','_team'))\n",
    "# mvp_playerid_lg\n",
    "# mvp_count=MVP_PlayerID.groupby(['playerID']).count().reset_index()\n",
    "# mvp_count.sort_values(by='awardID')\n",
    "# print(mvp_count.head())\n",
    "# mvp_count_state=mvp_count.merge(master, on='playerID', how='left', suffixes=('mvp', 'master'))\n",
    "# mvp_count_state"
   ]
  }
 ],
 "metadata": {
  "kernelspec": {
   "display_name": "Python 3",
   "language": "python",
   "name": "python3"
  },
  "language_info": {
   "codemirror_mode": {
    "name": "ipython",
    "version": 3
   },
   "file_extension": ".py",
   "mimetype": "text/x-python",
   "name": "python",
   "nbconvert_exporter": "python",
   "pygments_lexer": "ipython3",
   "version": "3.7.0"
  }
 },
 "nbformat": 4,
 "nbformat_minor": 2
}
